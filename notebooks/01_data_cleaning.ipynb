{
 "cells": [
  {
   "cell_type": "code",
   "execution_count": null,
   "id": "17982bdc",
   "metadata": {},
   "outputs": [],
   "source": [
    "import sys\n",
    "import os\n",
    "sys.path.append(os.path.abspath('../src'))\n",
    "from utils import install"
   ]
  },
  {
   "cell_type": "markdown",
   "id": "e988f5c1",
   "metadata": {},
   "source": [
    "# Import Data From UK national grid"
   ]
  },
  {
   "cell_type": "code",
   "execution_count": null,
   "id": "47ac8b1e",
   "metadata": {},
   "outputs": [
    {
     "name": "stdout",
     "output_type": "stream",
     "text": [
      "              DATETIME     GAS     COAL  NUCLEAR   WIND  WIND_EMB  HYDRO  \\\n",
      "0  2009-01-01T00:00:00  8369.0  15037.0   7099.0  244.0      61.0    246   \n",
      "1  2009-01-01T00:30:00  8498.0  15095.0   7088.0  225.0      56.0    245   \n",
      "2  2009-01-01T01:00:00  8474.0  15088.0   7074.0  203.0      51.0    246   \n",
      "3  2009-01-01T01:30:00  8319.0  15034.0   7064.0  188.0      47.0    246   \n",
      "4  2009-01-01T02:00:00  8296.0  15003.0   7052.0  172.0      43.0    246   \n",
      "\n",
      "   IMPORTS  BIOMASS  OTHER  ...  IMPORTS_perc  BIOMASS_perc  OTHER_perc  \\\n",
      "0   2519.0      0.0    0.0  ...           7.5           0.0         0.0   \n",
      "1   2496.0      0.0    0.0  ...           7.4           0.0         0.0   \n",
      "2   2466.0      0.0    0.0  ...           7.3           0.0         0.0   \n",
      "3   2440.0      0.0    0.0  ...           7.3           0.0         0.0   \n",
      "4   2364.0      0.0    0.0  ...           7.1           0.0         0.0   \n",
      "\n",
      "   SOLAR_perc  STORAGE_perc  GENERATION_perc  LOW_CARBON_perc  \\\n",
      "0         0.0           0.0            100.0             22.8   \n",
      "1         0.0           0.0            100.0             22.6   \n",
      "2         0.0           0.0            100.0             22.5   \n",
      "3         0.0           0.0            100.0             22.6   \n",
      "4         0.0           0.0            100.0             22.6   \n",
      "\n",
      "   ZERO_CARBON_perc  RENEWABLE_perc  FOSSIL_perc  \n",
      "0              24.5             1.6         69.7  \n",
      "1              24.3             1.6         70.0  \n",
      "2              24.2             1.5         70.1  \n",
      "3              24.3             1.4         70.0  \n",
      "4              24.3             1.4         70.2  \n",
      "\n",
      "[5 rows x 34 columns]\n"
     ]
    }
   ],
   "source": [
    "import urllib3\n",
    "import json\n",
    "import pandas as pd\n",
    "\n",
    "http = urllib3.PoolManager()\n",
    "\n",
    "### Below code is used to find the package list\n",
    "# package_list_url = \"https://api.neso.energy/api/3/action/package_list\"\n",
    "# resp = http.request(\"GET\", package_list_url)\n",
    "# print(json.loads(resp.data)['result'])\n",
    "\n",
    "package = \"historical-generation-mix\"\n",
    "package_search_url = \"https://api.neso.energy/api/3/action/package_search?q=\" + package\n",
    "resp = http.request(\"GET\", package_search_url)\n",
    "csv_url= json.loads(resp.data)['result']['results'][0]['resources'][0]['url']\n",
    "data = pd.read_csv(csv_url)\n",
    "print(data.head())\n"
   ]
  },
  {
   "cell_type": "code",
   "execution_count": null,
   "id": "c4360b9f",
   "metadata": {},
   "outputs": [],
   "source": []
  }
 ],
 "metadata": {
  "kernelspec": {
   "display_name": "Python 3",
   "language": "python",
   "name": "python3"
  },
  "language_info": {
   "codemirror_mode": {
    "name": "ipython",
    "version": 3
   },
   "file_extension": ".py",
   "mimetype": "text/x-python",
   "name": "python",
   "nbconvert_exporter": "python",
   "pygments_lexer": "ipython3",
   "version": "3.12.10"
  }
 },
 "nbformat": 4,
 "nbformat_minor": 5
}
