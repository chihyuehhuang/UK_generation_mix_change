{
 "cells": [
  {
   "cell_type": "markdown",
   "id": "3b062b1f",
   "metadata": {},
   "source": [
    "# Import necessary modules\n",
    "\n",
    "We begin by importing all necessary modules. The install function can be used to install the uninstalled modules."
   ]
  },
  {
   "cell_type": "code",
   "execution_count": 1,
   "id": "17982bdc",
   "metadata": {},
   "outputs": [],
   "source": [
    "import sys\n",
    "import os\n",
    "sys.path.append(os.path.abspath('../src'))\n",
    "import urllib3\n",
    "import json\n",
    "import pandas as pd\n",
    "import psycopg2\n",
    "from sqlalchemy import create_engine, text"
   ]
  },
  {
   "cell_type": "markdown",
   "id": "e988f5c1",
   "metadata": {},
   "source": [
    "# Import Data From UK national grid\n",
    "\n",
    "The data is from neso https://www.neso.energy/data-portal/historic-generation-mix/historic_gb_generation_mix "
   ]
  },
  {
   "cell_type": "code",
   "execution_count": 2,
   "id": "47ac8b1e",
   "metadata": {},
   "outputs": [
    {
     "data": {
      "text/plain": [
       "291592"
      ]
     },
     "execution_count": 2,
     "metadata": {},
     "output_type": "execute_result"
    }
   ],
   "source": [
    "http = urllib3.PoolManager()\n",
    "query_url = \"https://api.neso.energy/api/3/action/datastore_search_sql?sql=SELECT * from \\\"f93d1835-75bc-43e5-84ad-12472b180a98\\\"\"\n",
    "resp = http.request(\"GET\", query_url)\n",
    "data = pd.DataFrame(json.loads(resp.data)['result']['records'])\n",
    "len(data)\n"
   ]
  },
  {
   "cell_type": "markdown",
   "id": "ed120b45",
   "metadata": {},
   "source": [
    "# Preprocess dataframe"
   ]
  },
  {
   "cell_type": "code",
   "execution_count": null,
   "id": "769b3c1a",
   "metadata": {},
   "outputs": [
    {
     "name": "stdout",
     "output_type": "stream",
     "text": [
      "<class 'pandas.core.frame.DataFrame'>\n",
      "RangeIndex: 290924 entries, 0 to 290923\n",
      "Data columns (total 34 columns):\n",
      " #   Column            Non-Null Count   Dtype         \n",
      "---  ------            --------------   -----         \n",
      " 0   DATETIME          290924 non-null  datetime64[ns]\n",
      " 1   CARBON_INTENSITY  290924 non-null  float64       \n",
      " 2   NUCLEAR           290924 non-null  float64       \n",
      " 3   STORAGE           290924 non-null  float64       \n",
      " 4   LOW_CARBON        290924 non-null  float64       \n",
      " 5   HYDRO             290924 non-null  float64       \n",
      " 6   WIND_EMB          290924 non-null  float64       \n",
      " 7   IMPORTS           290924 non-null  float64       \n",
      " 8   GAS               290924 non-null  float64       \n",
      " 9   COAL              290924 non-null  float64       \n",
      " 10  FOSSIL            290924 non-null  float64       \n",
      " 11  GENERATION        290924 non-null  float64       \n",
      " 12  OTHER             290924 non-null  float64       \n",
      " 13  ZERO_CARBON       290924 non-null  float64       \n",
      " 14  BIOMASS           290924 non-null  float64       \n",
      " 15  WIND              290924 non-null  float64       \n",
      " 16  SOLAR             290924 non-null  float64       \n",
      " 17  RENEWABLE         290924 non-null  float64       \n",
      " 18  RENEWABLE_perc    290924 non-null  float64       \n",
      " 19  HYDRO_perc        290924 non-null  float64       \n",
      " 20  IMPORTS_perc      290924 non-null  float64       \n",
      " 21  SOLAR_perc        290924 non-null  float64       \n",
      " 22  BIOMASS_perc      290924 non-null  float64       \n",
      " 23  STORAGE_perc      290924 non-null  float64       \n",
      " 24  WIND_perc         290924 non-null  float64       \n",
      " 25  LOW_CARBON_perc   290924 non-null  float64       \n",
      " 26  COAL_perc         290924 non-null  float64       \n",
      " 27  ZERO_CARBON_perc  290924 non-null  float64       \n",
      " 28  FOSSIL_perc       290924 non-null  float64       \n",
      " 29  GENERATION_perc   290924 non-null  float64       \n",
      " 30  NUCLEAR_perc      290924 non-null  float64       \n",
      " 31  WIND_EMB_perc     290924 non-null  float64       \n",
      " 32  GAS_perc          290924 non-null  float64       \n",
      " 33  OTHER_perc        290924 non-null  float64       \n",
      "dtypes: datetime64[ns](1), float64(33)\n",
      "memory usage: 75.5 MB\n",
      "None\n"
     ]
    }
   ],
   "source": [
    "cols = data.columns.tolist()\n",
    "non_perc_cols = [col for col in cols if not col.endswith('_perc')]\n",
    "perc_cols = [col for col in cols if col.endswith('_perc')]\n",
    "cols = non_perc_cols + perc_cols\n",
    "remove = ['DATETIME', 'CARBON_INTENSITY', '_full_text', '_id']\n",
    "cols = ['CARBON_INTENSITY'] + [col for col in cols if col not in remove]\n",
    "data_sort= pd.concat([\n",
    "    data['DATETIME'].astype('datetime64[ns]'), \n",
    "    data[cols].astype(float)\n",
    "    ], axis=1)\n",
    "# data_sort = data[cols]\n",
    "print(data_sort.info())"
   ]
  },
  {
   "cell_type": "markdown",
   "id": "21da9ec6",
   "metadata": {},
   "source": [
    "# Export to SQL"
   ]
  },
  {
   "cell_type": "markdown",
   "id": "cf8cf29c",
   "metadata": {},
   "source": [
    "Create engine to postgreSQL"
   ]
  },
  {
   "cell_type": "code",
   "execution_count": 4,
   "id": "c4360b9f",
   "metadata": {},
   "outputs": [],
   "source": [
    "# PostgreSQL connection info\n",
    "username = \"postgres\" \n",
    "password = \"1234\"\n",
    "host = \"localhost\"          \n",
    "port = \"5432\"               \n",
    "database = \"energy_forecast\"  \n",
    "\n",
    "# Create connection engine\n",
    "engine = create_engine(f\"postgresql+psycopg2://{username}:{password}@{host}:{port}/{database}\")\n"
   ]
  },
  {
   "cell_type": "markdown",
   "id": "602100d3",
   "metadata": {},
   "source": [
    "Export with df.to_sql"
   ]
  },
  {
   "cell_type": "code",
   "execution_count": null,
   "id": "d2b6c54d",
   "metadata": {},
   "outputs": [
    {
     "name": "stdout",
     "output_type": "stream",
     "text": [
      "✅ Data exported to PostgreSQL successfully.\n"
     ]
    }
   ],
   "source": [
    "# Export DataFrame to a table named \"generation_data\"\n",
    "data_sort.to_sql(\"generation_data\", engine, if_exists=\"replace\", index=False)\n",
    "\n",
    "print(\"Data exported to PostgreSQL successfully.\")"
   ]
  },
  {
   "cell_type": "code",
   "execution_count": null,
   "id": "06ed7e73",
   "metadata": {},
   "outputs": [],
   "source": []
  }
 ],
 "metadata": {
  "kernelspec": {
   "display_name": "Python 3",
   "language": "python",
   "name": "python3"
  },
  "language_info": {
   "codemirror_mode": {
    "name": "ipython",
    "version": 3
   },
   "file_extension": ".py",
   "mimetype": "text/x-python",
   "name": "python",
   "nbconvert_exporter": "python",
   "pygments_lexer": "ipython3",
   "version": "3.12.10"
  }
 },
 "nbformat": 4,
 "nbformat_minor": 5
}
