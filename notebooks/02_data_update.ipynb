{
 "cells": [
  {
   "cell_type": "markdown",
   "id": "22951939",
   "metadata": {},
   "source": [
    "# Import necessary modules\n",
    "\n",
    "We begin by importing all necessary modules. The install function can be used to install the uninstalled modules."
   ]
  },
  {
   "cell_type": "code",
   "execution_count": 7,
   "id": "1bf0a898",
   "metadata": {},
   "outputs": [],
   "source": [
    "import sys\n",
    "import os\n",
    "sys.path.append(os.path.abspath('../src'))\n",
    "import urllib3\n",
    "import json\n",
    "import pandas as pd\n",
    "import psycopg2\n",
    "from sqlalchemy import create_engine, text"
   ]
  },
  {
   "cell_type": "markdown",
   "id": "d89b2d90",
   "metadata": {},
   "source": [
    "# Conect to PosgreSQL and Update data"
   ]
  },
  {
   "cell_type": "code",
   "execution_count": 8,
   "id": "86788108",
   "metadata": {},
   "outputs": [],
   "source": [
    "# PostgreSQL connection info\n",
    "username = \"postgres\"  # or your PostgreSQL username\n",
    "password = \"1234\"\n",
    "host = \"localhost\"           # or e.g. \"127.0.0.1\"\n",
    "port = \"5432\"                # default port\n",
    "database = \"energy_forecast\"  # or your database name\n",
    "\n",
    "# Create connection engine\n",
    "engine = create_engine(f\"postgresql+psycopg2://{username}:{password}@{host}:{port}/{database}\")\n",
    "\n",
    "conn = engine.connect()\n",
    "result = conn.execute(text(\"SELECT MAX(\\\"DATETIME\\\") FROM public.generation_data;\"))\n",
    "last_row = result.fetchall()[0][0]\n",
    "\n",
    "http = urllib3.PoolManager()\n",
    "query_url = \"https://api.neso.energy/api/3/action/datastore_search_sql?sql=SELECT * from \\\"f93d1835-75bc-43e5-84ad-12472b180a98\\\" \" \\\n",
    "\"WHERE \\\"DATETIME\\\" > '\" + str(last_row) + \"'\"\n",
    "new_resp = http.request(\"GET\", query_url)\n",
    "data = pd.DataFrame(json.loads(new_resp.data)['result']['records'])"
   ]
  },
  {
   "cell_type": "markdown",
   "id": "da4197a3",
   "metadata": {},
   "source": [
    "# Preprocess dataframe"
   ]
  },
  {
   "cell_type": "code",
   "execution_count": 9,
   "id": "8c1fd674",
   "metadata": {},
   "outputs": [
    {
     "name": "stdout",
     "output_type": "stream",
     "text": [
      "<class 'pandas.core.frame.DataFrame'>\n",
      "RangeIndex: 50 entries, 0 to 49\n",
      "Data columns (total 34 columns):\n",
      " #   Column            Non-Null Count  Dtype         \n",
      "---  ------            --------------  -----         \n",
      " 0   DATETIME          50 non-null     datetime64[ns]\n",
      " 1   CARBON_INTENSITY  50 non-null     float64       \n",
      " 2   NUCLEAR           50 non-null     float64       \n",
      " 3   STORAGE           50 non-null     float64       \n",
      " 4   LOW_CARBON        50 non-null     float64       \n",
      " 5   HYDRO             50 non-null     float64       \n",
      " 6   WIND_EMB          50 non-null     float64       \n",
      " 7   IMPORTS           50 non-null     float64       \n",
      " 8   GAS               50 non-null     float64       \n",
      " 9   COAL              50 non-null     float64       \n",
      " 10  FOSSIL            50 non-null     float64       \n",
      " 11  GENERATION        50 non-null     float64       \n",
      " 12  OTHER             50 non-null     float64       \n",
      " 13  ZERO_CARBON       50 non-null     float64       \n",
      " 14  BIOMASS           50 non-null     float64       \n",
      " 15  WIND              50 non-null     float64       \n",
      " 16  SOLAR             50 non-null     float64       \n",
      " 17  RENEWABLE         50 non-null     float64       \n",
      " 18  RENEWABLE_perc    50 non-null     float64       \n",
      " 19  HYDRO_perc        50 non-null     float64       \n",
      " 20  IMPORTS_perc      50 non-null     float64       \n",
      " 21  SOLAR_perc        50 non-null     float64       \n",
      " 22  BIOMASS_perc      50 non-null     float64       \n",
      " 23  STORAGE_perc      50 non-null     float64       \n",
      " 24  WIND_perc         50 non-null     float64       \n",
      " 25  LOW_CARBON_perc   50 non-null     float64       \n",
      " 26  COAL_perc         50 non-null     float64       \n",
      " 27  ZERO_CARBON_perc  50 non-null     float64       \n",
      " 28  FOSSIL_perc       50 non-null     float64       \n",
      " 29  GENERATION_perc   50 non-null     float64       \n",
      " 30  NUCLEAR_perc      50 non-null     float64       \n",
      " 31  WIND_EMB_perc     50 non-null     float64       \n",
      " 32  GAS_perc          50 non-null     float64       \n",
      " 33  OTHER_perc        50 non-null     float64       \n",
      "dtypes: datetime64[ns](1), float64(33)\n",
      "memory usage: 13.4 KB\n",
      "None\n"
     ]
    }
   ],
   "source": [
    "if not data.empty:\n",
    "    cols = data.columns.tolist()\n",
    "    non_perc_cols = [col for col in cols if not col.endswith('_perc')]\n",
    "    perc_cols = [col for col in cols if col.endswith('_perc')]\n",
    "    cols = non_perc_cols + perc_cols\n",
    "    remove = ['DATETIME', 'CARBON_INTENSITY', '_full_text', '_id']\n",
    "    # cols = ['DATETIME', 'CARBON_INTENSITY'] + [col for col in cols if col not in remove]\n",
    "    cols = ['CARBON_INTENSITY'] + [col for col in cols if col not in remove]\n",
    "    data_sort= pd.concat([\n",
    "        data['DATETIME'].astype('datetime64[ns]'), \n",
    "        data[cols].astype(float)\n",
    "        ], axis=1)\n",
    "    # data_sort = data[cols]\n",
    "    print(data_sort.info())"
   ]
  },
  {
   "cell_type": "code",
   "execution_count": 6,
   "id": "8005c62f",
   "metadata": {},
   "outputs": [
    {
     "name": "stdout",
     "output_type": "stream",
     "text": [
      "Data updated in PostgreSQL successfully.\n"
     ]
    }
   ],
   "source": [
    "if not data.empty:\n",
    "    data_sort.to_sql(\"generation_data\", engine, if_exists=\"append\", index=False)\n",
    "    print(\"Data updated in PostgreSQL successfully.\")"
   ]
  }
 ],
 "metadata": {
  "kernelspec": {
   "display_name": "Python 3",
   "language": "python",
   "name": "python3"
  },
  "language_info": {
   "codemirror_mode": {
    "name": "ipython",
    "version": 3
   },
   "file_extension": ".py",
   "mimetype": "text/x-python",
   "name": "python",
   "nbconvert_exporter": "python",
   "pygments_lexer": "ipython3",
   "version": "3.12.10"
  }
 },
 "nbformat": 4,
 "nbformat_minor": 5
}
